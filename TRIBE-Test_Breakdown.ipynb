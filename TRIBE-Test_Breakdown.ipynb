{
 "cells": [
  {
   "cell_type": "markdown",
   "metadata": {},
   "source": [
    "### TRIBE Coding Challenge\n",
    "Instructions:\n",
    "\n",
    "● You may complete the exercise in Python language.\n",
    "\n",
    "● The solution must have good test coverage overall and contain at least one test case that\n",
    "demonstrates a complete solution.\n",
    "\n",
    "● Once you’re finished, submit your public git/bitbucket repo to TRIBE for review with full commit\n",
    "history.\n",
    "\n",
    "Tips:\n",
    "\n",
    "● We're looking for a clear and readable solution.\n",
    "\n",
    "● The quality of your solution should be at a level you would be happy to produce in your\n",
    "everyday life as a software developer.\n",
    "\n",
    "● How you solve the problem is just as important as getting a complete solution.\n",
    "\n",
    "\n",
    "### Background:\n",
    "\n",
    "TRIBE is a marketplace that assists social media influencers monitise their social media posts through\n",
    "paid collaborations with brands. A social media influencer is someone with an audience >3000 followers\n",
    "on Instagram. Brands pay social media influencers to promote their products and services through\n",
    "sponsored posts to the influencers social media channel and audience. The social media influencer can\n",
    "choose to promote the brand using static images, through motion using video and audio.\n",
    "\n",
    "### Context:\n",
    "\n",
    "Social media Influencers have been basing the price of their social media post on a single post basis. So\n",
    "If a brand required 10 posts (for example spread over a period) then they would be charged 10x the cost\n",
    "of a single post. TRIBE has decided to allow social media influencers to sell posts in bundles and charge\n",
    "the brand on a per bundle basis. So if the Influencer sold image based posts in bundles of 5 and 10 and\n",
    "brand ordered 15 they would get a bundle of 10 and a bundle of 5.\n",
    "\n",
    "\n",
    "### Task:\n",
    "\n",
    "Given a brands order, you are required to determine the cost and bundle breakdown for each submission\n",
    "format. For simplicity, each order should contain the minimal number of bundles.\n",
    "\n",
    "### Input:\n",
    "\n",
    "Each order has a series of lines with each line containing the number of items followed by the submission\n",
    "format code\n",
    "\n",
    "An example input: \n",
    "\n",
    "**10 IMG 15 FLAC 13 VID**\n",
    "\n",
    "### Output:\n",
    "\n",
    "A successfully passing test(s) that demonstrates the following output: (The format of the output is not\n",
    "important)\n",
    "\n",
    "10 IMG $800\n",
    "\n",
    "    1 x 10 $800\n",
    "\n",
    "15 FLAC $1957.50\n",
    "\n",
    "    1 x 9 $1147.50\n",
    "\n",
    "    1 x 6 $810\n",
    "\n",
    "13 VID $2370\n",
    "\n",
    "    2 x 5 $1800\n",
    "\n",
    "    1 x 3 $570"
   ]
  },
  {
   "cell_type": "markdown",
   "metadata": {},
   "source": [
    "### Test Input"
   ]
  },
  {
   "cell_type": "code",
   "execution_count": 45,
   "metadata": {
    "collapsed": true
   },
   "outputs": [],
   "source": [
    "test_input = '10 IMG 15 FLAC 13 VID'"
   ]
  },
  {
   "cell_type": "code",
   "execution_count": 7,
   "metadata": {
    "collapsed": true
   },
   "outputs": [],
   "source": [
    "class Media:\n",
    " \n",
    "     def __init__(self, name):\n",
    "        if name==\"IMG\":\n",
    "            print(name)\n",
    "        elif name==\"FLAC\":\n",
    "            print('FLAC')\n",
    "        elif name==\"VID\":\n",
    "            print('VID')\n",
    "        else:\n",
    "            print('invalid image type')"
   ]
  },
  {
   "cell_type": "code",
   "execution_count": 47,
   "metadata": {
    "collapsed": true
   },
   "outputs": [],
   "source": [
    "count=10"
   ]
  },
  {
   "cell_type": "code",
   "execution_count": 56,
   "metadata": {
    "collapsed": true
   },
   "outputs": [],
   "source": [
    "media_type='IMG'"
   ]
  },
  {
   "cell_type": "code",
   "execution_count": 114,
   "metadata": {},
   "outputs": [],
   "source": [
    "def get_img_price(count=10,name='IMG'):\n",
    "    count_ten = count // 10\n",
    "    count_five = int((count % 10 ) / 5)\n",
    "    print(count_ten, 'x 10 ', ('$800'))\n",
    "    print(count_five, 'x 5 ', ('$450'))\n",
    "    final_price = count_ten * 800 + count_five * 450\n",
    "    return final_price"
   ]
  },
  {
   "cell_type": "code",
   "execution_count": 89,
   "metadata": {
    "collapsed": true
   },
   "outputs": [],
   "source": [
    "def get_flac_price(count=15,name='FLAC'):\n",
    "    final_price = 1957.50\n",
    "    return final_price "
   ]
  },
  {
   "cell_type": "code",
   "execution_count": 105,
   "metadata": {},
   "outputs": [],
   "source": [
    "def get_vid_price(count=13,name='VID'):\n",
    "    final_price = 2370\n",
    "#     print (name)\n",
    "    return final_price "
   ]
  },
  {
   "cell_type": "code",
   "execution_count": 128,
   "metadata": {},
   "outputs": [],
   "source": [
    "# media_type='IMG'\n",
    "def get_price(count,media_type):\n",
    "    if (media_type=='IMG'):\n",
    "        return get_img_price(count)\n",
    "    elif media_type==\"FLAC\":\n",
    "        return get_flac_price(count)\n",
    "    elif media_type==\"VID\":\n",
    "        return get_vid_price(count)\n",
    "    else:\n",
    "        print('invalid image type')\n",
    "        return 0"
   ]
  },
  {
   "cell_type": "code",
   "execution_count": 129,
   "metadata": {},
   "outputs": [
    {
     "name": "stdout",
     "output_type": "stream",
     "text": [
      "1 x 10  $800\n",
      "1 x 5  $450\n",
      "15   IMG $1250\n",
      "15   FLAC $1957\n",
      "13   VID $2370\n"
     ]
    }
   ],
   "source": [
    "test_input = '15 IMG 15 FLAC 13 VID'\n",
    "input_list = test_input.split()\n",
    "while input_list:\n",
    "    count = int(input_list.pop(0))\n",
    "    media_type = input_list.pop(0)\n",
    "    final_price = get_price(count,media_type)\n",
    "    print(count, ' ', media_type, '$%d' % (final_price))\n"
   ]
  },
  {
   "cell_type": "code",
   "execution_count": null,
   "metadata": {
    "collapsed": true
   },
   "outputs": [],
   "source": []
  }
 ],
 "metadata": {
  "kernelspec": {
   "display_name": "Python 3",
   "language": "python",
   "name": "python3"
  },
  "language_info": {
   "codemirror_mode": {
    "name": "ipython",
    "version": 3
   },
   "file_extension": ".py",
   "mimetype": "text/x-python",
   "name": "python",
   "nbconvert_exporter": "python",
   "pygments_lexer": "ipython3",
   "version": "3.5.2"
  },
  "widgets": {
   "state": {},
   "version": "1.1.2"
  }
 },
 "nbformat": 4,
 "nbformat_minor": 2
}
