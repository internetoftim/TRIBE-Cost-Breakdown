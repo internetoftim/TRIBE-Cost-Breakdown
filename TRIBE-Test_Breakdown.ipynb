{
 "cells": [
  {
   "cell_type": "markdown",
   "metadata": {},
   "source": [
    "### TRIBE Coding Challenge\n",
    "Instructions:\n",
    "\n",
    "● You may complete the exercise in Python language.\n",
    "\n",
    "● The solution must have good test coverage overall and contain at least one test case that\n",
    "demonstrates a complete solution.\n",
    "\n",
    "● Once you’re finished, submit your public git/bitbucket repo to TRIBE for review with full commit\n",
    "history.\n",
    "\n",
    "Tips:\n",
    "\n",
    "● We're looking for a clear and readable solution.\n",
    "\n",
    "● The quality of your solution should be at a level you would be happy to produce in your\n",
    "everyday life as a software developer.\n",
    "\n",
    "● How you solve the problem is just as important as getting a complete solution.\n",
    "\n",
    "\n",
    "### Background:\n",
    "\n",
    "TRIBE is a marketplace that assists social media influencers monitise their social media posts through\n",
    "paid collaborations with brands. A social media influencer is someone with an audience >3000 followers\n",
    "on Instagram. Brands pay social media influencers to promote their products and services through\n",
    "sponsored posts to the influencers social media channel and audience. The social media influencer can\n",
    "choose to promote the brand using static images, through motion using video and audio.\n",
    "\n",
    "### Context:\n",
    "\n",
    "Social media Influencers have been basing the price of their social media post on a single post basis. So\n",
    "If a brand required 10 posts (for example spread over a period) then they would be charged 10x the cost\n",
    "of a single post. TRIBE has decided to allow social media influencers to sell posts in bundles and charge\n",
    "the brand on a per bundle basis. So if the Influencer sold image based posts in bundles of 5 and 10 and\n",
    "brand ordered 15 they would get a bundle of 10 and a bundle of 5.\n",
    "\n",
    "\n",
    "### Task:\n",
    "\n",
    "Given a brands order, you are required to determine the cost and bundle breakdown for each submission\n",
    "format. For simplicity, each order should contain the minimal number of bundles.\n",
    "\n",
    "### Input:\n",
    "\n",
    "Each order has a series of lines with each line containing the number of items followed by the submission\n",
    "format code\n",
    "\n",
    "An example input: \n",
    "\n",
    "**10 IMG 15 FLAC 13 VID**\n",
    "\n",
    "### Output:\n",
    "\n",
    "A successfully passing test(s) that demonstrates the following output: (The format of the output is not\n",
    "important)\n",
    "\n",
    "10 IMG $800\n",
    "\n",
    "    1 x 10 $800\n",
    "\n",
    "15 FLAC $1957.50\n",
    "\n",
    "    1 x 9 $1147.50\n",
    "\n",
    "    1 x 6 $810\n",
    "\n",
    "13 VID $2370\n",
    "\n",
    "    2 x 5 $1800\n",
    "\n",
    "    1 x 3 $570"
   ]
  },
  {
   "cell_type": "markdown",
   "metadata": {},
   "source": [
    "### Test Input"
   ]
  },
  {
   "cell_type": "code",
   "execution_count": 1,
   "metadata": {
    "collapsed": true
   },
   "outputs": [],
   "source": [
    "test_input = '10 IMG 15 FLAC 13 VID'"
   ]
  },
  {
   "cell_type": "code",
   "execution_count": 2,
   "metadata": {
    "collapsed": true
   },
   "outputs": [],
   "source": [
    "count=10"
   ]
  },
  {
   "cell_type": "code",
   "execution_count": 3,
   "metadata": {
    "collapsed": true
   },
   "outputs": [],
   "source": [
    "media_type='IMG'"
   ]
  },
  {
   "cell_type": "markdown",
   "metadata": {},
   "source": [
    "### Get individual tuples from string row"
   ]
  },
  {
   "cell_type": "code",
   "execution_count": 5,
   "metadata": {},
   "outputs": [
    {
     "name": "stdout",
     "output_type": "stream",
     "text": [
      "15   IMG\n",
      "15   FLAC\n",
      "13   VID\n"
     ]
    }
   ],
   "source": [
    "test_input = '15 IMG 15 FLAC 13 VID'\n",
    "input_list = test_input.split()\n",
    "while input_list:\n",
    "    count = int(input_list.pop(0))\n",
    "    media_type = input_list.pop(0)\n",
    "#     list_count= get_price(count,media_type)\n",
    "    print(count, ' ', media_type)\n",
    "#     print(list_count)"
   ]
  },
  {
   "cell_type": "markdown",
   "metadata": {},
   "source": [
    "### Integer Combination Loop"
   ]
  },
  {
   "cell_type": "markdown",
   "metadata": {},
   "source": [
    "Loop through all combinations of the bundle set.\n",
    "\n",
    "Use VID test case ('13 VID')\n",
    ">13 VID $2370\n",
    "\n",
    ">2 x 5 $1800\n",
    "\n",
    ">1 x 3 $570"
   ]
  },
  {
   "cell_type": "code",
   "execution_count": null,
   "metadata": {
    "collapsed": true
   },
   "outputs": [],
   "source": [
    "i_comp = 3\n",
    "ii_comp = 5\n",
    "iii_comp = 9\n",
    "int_n = 13\n",
    "i_val=570\n",
    "ii_val=900\n",
    "iii_val=1530\n",
    "for i in range(0,int_n//i_comp + 1):\n",
    "    for ii in range(0,(int_n-i_comp*i)//ii_comp + 1):\n",
    "        for iii in range(0,(int_n - i*i_comp - ii*ii_comp)//iii_comp + 1):\n",
    "            if(i*i_comp + ii * ii_comp + iii * iii_comp == int_n):\n",
    "                print('%d VID $%d' % (int_n,i*i_val+ii*ii_val+iii*iii_val))\n",
    "                print('%d x $%d' % (iii,iii_comp))\n",
    "                print('%d x $%d' % (ii,ii_comp))\n",
    "                print('%d x $%d' % (i,i_comp))\n",
    "            \n",
    "        "
   ]
  },
  {
   "cell_type": "markdown",
   "metadata": {},
   "source": [
    "Use FLAC test case ('15 FLAC')\n",
    ">15 FLAC $1957.50\n",
    "\n",
    ">1 x 9 $1147.50\n",
    "\n",
    ">1 x 6 $810"
   ]
  },
  {
   "cell_type": "code",
   "execution_count": 90,
   "metadata": {},
   "outputs": [
    {
     "name": "stdout",
     "output_type": "stream",
     "text": [
      "15 FLAC $1957\n",
      "1 x $9\n",
      "1 x $6\n",
      "0 x $3\n",
      "15 FLAC $2047\n",
      "0 x $9\n",
      "2 x $6\n",
      "1 x $3\n",
      "15 FLAC $2002\n",
      "1 x $9\n",
      "0 x $6\n",
      "2 x $3\n",
      "15 FLAC $2092\n",
      "0 x $9\n",
      "1 x $6\n",
      "3 x $3\n",
      "15 FLAC $2137\n",
      "0 x $9\n",
      "0 x $6\n",
      "5 x $3\n"
     ]
    }
   ],
   "source": [
    "i_comp = 3\n",
    "ii_comp = 6\n",
    "iii_comp = 9\n",
    "int_n = 15\n",
    "i_val=427.50\n",
    "ii_val=810\n",
    "iii_val=1147.5\n",
    "for i in range(0,int_n//i_comp + 1):\n",
    "    for ii in range(0,(int_n-i_comp*i)//ii_comp + 1):\n",
    "        for iii in range(0,(int_n - i*i_comp - ii*ii_comp)//iii_comp + 1):\n",
    "            if(i*i_comp + ii * ii_comp + iii * iii_comp == int_n):\n",
    "                print('%d FLAC $%d' % (int_n,i*i_val+ii*ii_val+iii*iii_val))\n",
    "                print('%d x $%d' % (iii,iii_comp))\n",
    "                print('%d x $%d' % (ii,ii_comp))\n",
    "                print('%d x $%d' % (i,i_comp))\n",
    "            \n",
    "        "
   ]
  },
  {
   "cell_type": "markdown",
   "metadata": {},
   "source": [
    "Use IMG test case ('10 IMG')\n",
    ">10 IMG $800\n",
    "\n",
    ">1 x 10 $800\n"
   ]
  },
  {
   "cell_type": "markdown",
   "metadata": {},
   "source": [
    "Test Case: When multiple integer decomposition\n",
    "\n",
    "```10 IMG $800\n",
    "1 x $10\n",
    "10 IMG $900\n",
    "2 x $5```\n",
    "\n",
    "**We will choose the lower total cost (business rule)**"
   ]
  },
  {
   "cell_type": "code",
   "execution_count": 95,
   "metadata": {},
   "outputs": [
    {
     "name": "stdout",
     "output_type": "stream",
     "text": [
      "10 IMG $800\n",
      "1 x $10\n",
      "10 IMG $900\n",
      "2 x $5\n"
     ]
    }
   ],
   "source": [
    "i_comp = 5\n",
    "ii_comp = 10\n",
    "int_n = 10\n",
    "i_val=450\n",
    "ii_val=800\n",
    "out_val=[]\n",
    "for i in range(0,int_n//i_comp + 1):\n",
    "    for ii in range(0,(int_n-i_comp*i)//ii_comp + 1):\n",
    "        if(i*i_comp + ii * ii_comp  == int_n):\n",
    "#             print('%d MEDIATYPE $%d' % (int_n,i*i_val+ii*ii_val))\n",
    "#             print('%d x $%d' % (ii,ii_comp))\n",
    "#             print('%d x $%d' % (i,i_comp))\n",
    "            out_val.append('%d IMG $%d' % (int_n,i*i_val+ii*ii_val))\n",
    "            if(ii>0):\n",
    "                out_val.append('%d x $%d' % (ii,ii_comp))\n",
    "            if(i>0):\n",
    "                out_val.append('%d x $%d' % (i,i_comp))\n",
    "            break\n",
    "#     if (out_val!=[]):\n",
    "#         break\n",
    "\n",
    "for item in out_val:\n",
    "    print(item)"
   ]
  },
  {
   "cell_type": "markdown",
   "metadata": {},
   "source": [
    "### Refactor Decomposition Codes"
   ]
  },
  {
   "cell_type": "code",
   "execution_count": 1,
   "metadata": {
    "collapsed": true
   },
   "outputs": [],
   "source": [
    "from tribe import *"
   ]
  },
  {
   "cell_type": "code",
   "execution_count": 2,
   "metadata": {},
   "outputs": [
    {
     "name": "stdout",
     "output_type": "stream",
     "text": [
      "10 IMG $800.00\n",
      "1 x $10\n"
     ]
    }
   ],
   "source": [
    "out = decompose_image(int_n=10)\n",
    "for item in out:\n",
    "    print(item)"
   ]
  },
  {
   "cell_type": "code",
   "execution_count": 3,
   "metadata": {},
   "outputs": [
    {
     "name": "stdout",
     "output_type": "stream",
     "text": [
      "15 FLAC $1957.50\n",
      "1 x $9\n",
      "1 x $6\n"
     ]
    }
   ],
   "source": [
    "out = decompose_audio()\n",
    "for item in out:\n",
    "    print(item)"
   ]
  },
  {
   "cell_type": "code",
   "execution_count": 4,
   "metadata": {},
   "outputs": [
    {
     "name": "stdout",
     "output_type": "stream",
     "text": [
      "13 VID $2370.00\n",
      "2 x $5\n",
      "1 x $3\n"
     ]
    }
   ],
   "source": [
    "out = decompose_video()\n",
    "for item in out:\n",
    "    print(item)"
   ]
  },
  {
   "cell_type": "markdown",
   "metadata": {},
   "source": [
    "Get breakdown from row string"
   ]
  },
  {
   "cell_type": "code",
   "execution_count": 5,
   "metadata": {},
   "outputs": [
    {
     "name": "stdout",
     "output_type": "stream",
     "text": [
      "10 IMG $800.00\n",
      "1 x $10\n",
      "15 FLAC $1957.50\n",
      "1 x $9\n",
      "1 x $6\n",
      "13 VID $2370.00\n",
      "2 x $5\n",
      "1 x $3\n"
     ]
    }
   ],
   "source": [
    "test_input = '10 IMG 15 FLAC 13 VID'\n",
    "input_list = test_input.split()\n",
    "while input_list:\n",
    "    count = int(input_list.pop(0))\n",
    "    media_type = input_list.pop(0)\n",
    "#     list_count= get_price(count,media_type)\n",
    "#     print(count, ' ', media_type)\n",
    "#     print(list_count)\n",
    "# print (count,media_type)\n",
    "    if(media_type=='IMG'):\n",
    "        out_val=decompose_image(count)\n",
    "    elif(media_type=='FLAC'):\n",
    "        out_val=decompose_audio(count)\n",
    "    elif(media_type=='VID'):\n",
    "        out_val=decompose_video(count)\n",
    "    else: out_val='0 INVALID MEDIA TYPE'\n",
    "    for item in out_val:\n",
    "        print(item)"
   ]
  },
  {
   "cell_type": "markdown",
   "metadata": {},
   "source": [
    "### Refactor Row Extractor Codes"
   ]
  },
  {
   "cell_type": "code",
   "execution_count": null,
   "metadata": {
    "collapsed": true
   },
   "outputs": [],
   "source": [
    "test_input = '10 IMG 15 FLAC 13 VID'\n",
    "output_val = extract_breakdown(test_input)\n",
    "for item in out_val:\n",
    "    print(item)"
   ]
  }
 ],
 "metadata": {
  "kernelspec": {
   "display_name": "Python 3",
   "language": "python",
   "name": "python3"
  },
  "language_info": {
   "codemirror_mode": {
    "name": "ipython",
    "version": 3
   },
   "file_extension": ".py",
   "mimetype": "text/x-python",
   "name": "python",
   "nbconvert_exporter": "python",
   "pygments_lexer": "ipython3",
   "version": "3.5.2"
  },
  "widgets": {
   "state": {},
   "version": "1.1.2"
  }
 },
 "nbformat": 4,
 "nbformat_minor": 2
}
